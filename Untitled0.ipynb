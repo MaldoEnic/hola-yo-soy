{
  "nbformat": 4,
  "nbformat_minor": 0,
  "metadata": {
    "colab": {
      "provenance": [],
      "toc_visible": true,
      "mount_file_id": "12N7_lPl6veedSPIFkCVpGk5Ma52rURnD",
      "authorship_tag": "ABX9TyNYxpR0a3Ld0lilyNcM3sMi",
      "include_colab_link": true
    },
    "kernelspec": {
      "name": "python3",
      "display_name": "Python 3"
    },
    "language_info": {
      "name": "python"
    }
  },
  "cells": [
    {
      "cell_type": "markdown",
      "metadata": {
        "id": "view-in-github",
        "colab_type": "text"
      },
      "source": [
        "<a href=\"https://colab.research.google.com/github/MaldoEnic/hola-yo-soy/blob/main/Untitled0.ipynb\" target=\"_parent\"><img src=\"https://colab.research.google.com/assets/colab-badge.svg\" alt=\"Open In Colab\"/></a>"
      ]
    },
    {
      "cell_type": "markdown",
      "source": [
        "# Amogus\n",
        "Primer programa en Python:\n",
        "- Usar Colaboratory\n",
        "- Git Hub\n",
        "- La setencia de salida print"
      ],
      "metadata": {
        "id": "WWFSXx8Ry40M"
      }
    },
    {
      "cell_type": "code",
      "source": [
        "print ('JUASJUAS')"
      ],
      "metadata": {
        "colab": {
          "base_uri": "https://localhost:8080/"
        },
        "id": "lybd_5MmzIkq",
        "outputId": "9e252a28-f196-4fe2-b691-f321995e1743"
      },
      "execution_count": 5,
      "outputs": [
        {
          "output_type": "stream",
          "name": "stdout",
          "text": [
            "JUASJUAS\n"
          ]
        }
      ]
    },
    {
      "cell_type": "markdown",
      "source": [
        "## ¿Cómo me llamo?\n"
      ],
      "metadata": {
        "id": "WVb8_ci507Ny"
      }
    },
    {
      "cell_type": "code",
      "source": [
        "# @title CODIGO DE MI NOMBRE\n",
        "print('Aldo Erick c:')"
      ],
      "metadata": {
        "colab": {
          "base_uri": "https://localhost:8080/"
        },
        "cellView": "form",
        "id": "WV1ztHRL0TXE",
        "outputId": "ff9f3e85-849c-491a-b700-5776df627939"
      },
      "execution_count": 6,
      "outputs": [
        {
          "output_type": "stream",
          "name": "stdout",
          "text": [
            "Aldo Erick c:\n"
          ]
        }
      ]
    },
    {
      "cell_type": "markdown",
      "source": [
        "# New Section"
      ],
      "metadata": {
        "id": "fRIwMdpy1WnC"
      }
    }
  ]
}